{
 "cells": [
  {
   "cell_type": "code",
   "execution_count": 130,
   "metadata": {
    "colab": {
     "base_uri": "https://localhost:8080/",
     "height": 34
    },
    "colab_type": "code",
    "id": "FxiQYmkzd3la",
    "outputId": "82501a33-5bf6-460d-b914-5f502afeb785"
   },
   "outputs": [
    {
     "name": "stdout",
     "output_type": "stream",
     "text": [
      "Once deleted, variables cannot be recovered. Proceed (y/[n])? y\n"
     ]
    }
   ],
   "source": [
    "%reset"
   ]
  },
  {
   "cell_type": "markdown",
   "metadata": {
    "colab_type": "text",
    "id": "HkqU-tQBeVlg"
   },
   "source": [
    "**Importing libraries**"
   ]
  },
  {
   "cell_type": "code",
   "execution_count": 131,
   "metadata": {
    "colab": {},
    "colab_type": "code",
    "id": "F2-ygKtteOww"
   },
   "outputs": [],
   "source": [
    "import numpy as np\n",
    "import pandas as pd\n",
    "import codecs\n",
    "from sklearn.feature_extraction.text import TfidfVectorizer"
   ]
  },
  {
   "cell_type": "code",
   "execution_count": 132,
   "metadata": {},
   "outputs": [],
   "source": [
    "import matplotlib.pyplot as plt\n",
    "%matplotlib inline"
   ]
  },
  {
   "cell_type": "markdown",
   "metadata": {
    "colab_type": "text",
    "id": "7jmb75ADeeY1"
   },
   "source": [
    "**Reading data**"
   ]
  },
  {
   "cell_type": "code",
   "execution_count": 133,
   "metadata": {
    "colab": {},
    "colab_type": "code",
    "id": "npVxjbpieb4H"
   },
   "outputs": [],
   "source": [
    "wine_data = pd.read_csv('OSX_DS_assignment.csv')"
   ]
  },
  {
   "cell_type": "code",
   "execution_count": 134,
   "metadata": {
    "colab": {
     "base_uri": "https://localhost:8080/",
     "height": 34
    },
    "colab_type": "code",
    "id": "Latwu3URxOJR",
    "outputId": "62bb87e2-148f-43d9-afbc-b254c2fff46f"
   },
   "outputs": [
    {
     "data": {
      "text/plain": [
       "(103322, 12)"
      ]
     },
     "execution_count": 134,
     "metadata": {},
     "output_type": "execute_result"
    }
   ],
   "source": [
    "wine_data.shape"
   ]
  },
  {
   "cell_type": "markdown",
   "metadata": {
    "colab_type": "text",
    "id": "wZr5ouB8xoYo"
   },
   "source": [
    "Removing duplicate records if any from the dataset"
   ]
  },
  {
   "cell_type": "code",
   "execution_count": 135,
   "metadata": {
    "colab": {},
    "colab_type": "code",
    "id": "rAHv9eoVxnQ-"
   },
   "outputs": [],
   "source": [
    "wine_data.drop_duplicates(keep='last',inplace=True)"
   ]
  },
  {
   "cell_type": "code",
   "execution_count": 136,
   "metadata": {
    "colab": {
     "base_uri": "https://localhost:8080/",
     "height": 34
    },
    "colab_type": "code",
    "id": "o7fqSQGqxSS0",
    "outputId": "f287efe8-77a3-4d32-eb3c-6b9a5488f92f"
   },
   "outputs": [
    {
     "data": {
      "text/plain": [
       "(95455, 12)"
      ]
     },
     "execution_count": 136,
     "metadata": {},
     "output_type": "execute_result"
    }
   ],
   "source": [
    "wine_data.shape"
   ]
  },
  {
   "cell_type": "markdown",
   "metadata": {
    "colab_type": "text",
    "id": "lTUdz22ryGy2"
   },
   "source": [
    "**Check for missing values**"
   ]
  },
  {
   "cell_type": "markdown",
   "metadata": {
    "colab_type": "text",
    "id": "s4ZdbsL17r5G"
   },
   "source": [
    "Removing unwanted features"
   ]
  },
  {
   "cell_type": "code",
   "execution_count": 137,
   "metadata": {
    "colab": {},
    "colab_type": "code",
    "id": "0vCScNsy7vci"
   },
   "outputs": [],
   "source": [
    "wine_data.drop('user_name',axis=1,inplace=True)"
   ]
  },
  {
   "cell_type": "markdown",
   "metadata": {
    "colab_type": "text",
    "id": "Fclrc9Ti8QH6"
   },
   "source": [
    "Identifying & dropping columns containing more than 50% of missing values"
   ]
  },
  {
   "cell_type": "code",
   "execution_count": 138,
   "metadata": {
    "colab": {
     "base_uri": "https://localhost:8080/",
     "height": 225
    },
    "colab_type": "code",
    "id": "a3mHb4pllIfG",
    "outputId": "20fffdd4-b94b-4d3b-875c-8c37d7806cbc"
   },
   "outputs": [
    {
     "data": {
      "text/html": [
       "<div>\n",
       "<style scoped>\n",
       "    .dataframe tbody tr th:only-of-type {\n",
       "        vertical-align: middle;\n",
       "    }\n",
       "\n",
       "    .dataframe tbody tr th {\n",
       "        vertical-align: top;\n",
       "    }\n",
       "\n",
       "    .dataframe thead th {\n",
       "        text-align: right;\n",
       "    }\n",
       "</style>\n",
       "<table border=\"1\" class=\"dataframe\">\n",
       "  <thead>\n",
       "    <tr style=\"text-align: right;\">\n",
       "      <th></th>\n",
       "      <th>Total</th>\n",
       "      <th>Missing Percent</th>\n",
       "    </tr>\n",
       "  </thead>\n",
       "  <tbody>\n",
       "    <tr>\n",
       "      <th>region_2</th>\n",
       "      <td>53910</td>\n",
       "      <td>56.476874</td>\n",
       "    </tr>\n",
       "    <tr>\n",
       "      <th>designation</th>\n",
       "      <td>27363</td>\n",
       "      <td>28.665863</td>\n",
       "    </tr>\n",
       "    <tr>\n",
       "      <th>region_1</th>\n",
       "      <td>14804</td>\n",
       "      <td>15.508879</td>\n",
       "    </tr>\n",
       "    <tr>\n",
       "      <th>price</th>\n",
       "      <td>6514</td>\n",
       "      <td>6.824158</td>\n",
       "    </tr>\n",
       "    <tr>\n",
       "      <th>province</th>\n",
       "      <td>36</td>\n",
       "      <td>0.037714</td>\n",
       "    </tr>\n",
       "    <tr>\n",
       "      <th>country</th>\n",
       "      <td>36</td>\n",
       "      <td>0.037714</td>\n",
       "    </tr>\n",
       "  </tbody>\n",
       "</table>\n",
       "</div>"
      ],
      "text/plain": [
       "             Total  Missing Percent\n",
       "region_2     53910        56.476874\n",
       "designation  27363        28.665863\n",
       "region_1     14804        15.508879\n",
       "price         6514         6.824158\n",
       "province        36         0.037714\n",
       "country         36         0.037714"
      ]
     },
     "execution_count": 138,
     "metadata": {},
     "output_type": "execute_result"
    }
   ],
   "source": [
    "total = wine_data.isnull().sum().sort_values(ascending=False)\n",
    "percent = (wine_data.isnull().sum()/wine_data.isnull().count()).sort_values(ascending=False)\n",
    "missing_data = pd.concat([total, percent], axis=1, keys=['Total', 'Missing Percent'])\n",
    "missing_data['Missing Percent'] = missing_data['Missing Percent'].apply(lambda x: x * 100)\n",
    "missing_data.loc[missing_data['Missing Percent'] > 0][:10]"
   ]
  },
  {
   "cell_type": "markdown",
   "metadata": {
    "colab_type": "text",
    "id": "5Su6rqTQcn3i"
   },
   "source": [
    "Dropping region_2 column as it contains more than 50 % of missing values"
   ]
  },
  {
   "cell_type": "code",
   "execution_count": 139,
   "metadata": {
    "colab": {},
    "colab_type": "code",
    "id": "Iyn4bE7a8dEe"
   },
   "outputs": [],
   "source": [
    "wine_data.drop('region_2',axis=1,inplace=True)"
   ]
  },
  {
   "cell_type": "markdown",
   "metadata": {
    "colab_type": "text",
    "id": "vHnuDBuoNZHL"
   },
   "source": [
    "Change in climate has a effect on wine production.There are 36 records where province is missing.We can drop these records as the number is very less when we compare with total number of records."
   ]
  },
  {
   "cell_type": "code",
   "execution_count": 140,
   "metadata": {
    "colab": {},
    "colab_type": "code",
    "id": "wt6DdCVUNyd8"
   },
   "outputs": [],
   "source": [
    "wine_data.dropna(how='any',subset=['province','country'],inplace=True)"
   ]
  },
  {
   "cell_type": "markdown",
   "metadata": {
    "colab_type": "text",
    "id": "Q1wHjhEpAXtl"
   },
   "source": [
    "Resetting index"
   ]
  },
  {
   "cell_type": "code",
   "execution_count": 141,
   "metadata": {
    "colab": {},
    "colab_type": "code",
    "id": "RxxmiKrU_pB5"
   },
   "outputs": [],
   "source": [
    "wine_data.reset_index(drop=True,inplace=True) "
   ]
  },
  {
   "cell_type": "code",
   "execution_count": 142,
   "metadata": {
    "colab": {
     "base_uri": "https://localhost:8080/",
     "height": 186
    },
    "colab_type": "code",
    "id": "_cOzpTvXyS6S",
    "outputId": "6a70d4d2-b379-4099-f090-2a846065e72a"
   },
   "outputs": [
    {
     "data": {
      "text/html": [
       "<div>\n",
       "<style scoped>\n",
       "    .dataframe tbody tr th:only-of-type {\n",
       "        vertical-align: middle;\n",
       "    }\n",
       "\n",
       "    .dataframe tbody tr th {\n",
       "        vertical-align: top;\n",
       "    }\n",
       "\n",
       "    .dataframe thead th {\n",
       "        text-align: right;\n",
       "    }\n",
       "</style>\n",
       "<table border=\"1\" class=\"dataframe\">\n",
       "  <thead>\n",
       "    <tr style=\"text-align: right;\">\n",
       "      <th></th>\n",
       "      <th>country</th>\n",
       "      <th>review_title</th>\n",
       "      <th>review_description</th>\n",
       "      <th>designation</th>\n",
       "      <th>points</th>\n",
       "      <th>price</th>\n",
       "      <th>province</th>\n",
       "      <th>region_1</th>\n",
       "      <th>winery</th>\n",
       "      <th>variety</th>\n",
       "    </tr>\n",
       "  </thead>\n",
       "  <tbody>\n",
       "    <tr>\n",
       "      <th>0</th>\n",
       "      <td>Italy</td>\n",
       "      <td>Nicosia 2013 Vulkà Bianco  (Etna)</td>\n",
       "      <td>Aromas include tropical fruit, broom, brimston...</td>\n",
       "      <td>Vulkà Bianco</td>\n",
       "      <td>87</td>\n",
       "      <td>NaN</td>\n",
       "      <td>Sicily &amp; Sardinia</td>\n",
       "      <td>Etna</td>\n",
       "      <td>Nicosia</td>\n",
       "      <td>White Blend</td>\n",
       "    </tr>\n",
       "    <tr>\n",
       "      <th>1</th>\n",
       "      <td>Portugal</td>\n",
       "      <td>Quinta dos Avidagos 2011 Avidagos Red (Douro)</td>\n",
       "      <td>This is ripe and fruity, a wine that is smooth...</td>\n",
       "      <td>Avidagos</td>\n",
       "      <td>87</td>\n",
       "      <td>15.0</td>\n",
       "      <td>Douro</td>\n",
       "      <td>NaN</td>\n",
       "      <td>Quinta dos Avidagos</td>\n",
       "      <td>Portuguese Red</td>\n",
       "    </tr>\n",
       "    <tr>\n",
       "      <th>2</th>\n",
       "      <td>US</td>\n",
       "      <td>Rainstorm 2013 Pinot Gris (Willamette Valley)</td>\n",
       "      <td>Tart and snappy, the flavors of lime flesh and...</td>\n",
       "      <td>NaN</td>\n",
       "      <td>87</td>\n",
       "      <td>14.0</td>\n",
       "      <td>Oregon</td>\n",
       "      <td>Willamette Valley</td>\n",
       "      <td>Rainstorm</td>\n",
       "      <td>Pinot Gris</td>\n",
       "    </tr>\n",
       "  </tbody>\n",
       "</table>\n",
       "</div>"
      ],
      "text/plain": [
       "    country                                   review_title  \\\n",
       "0     Italy              Nicosia 2013 Vulkà Bianco  (Etna)   \n",
       "1  Portugal  Quinta dos Avidagos 2011 Avidagos Red (Douro)   \n",
       "2        US  Rainstorm 2013 Pinot Gris (Willamette Valley)   \n",
       "\n",
       "                                  review_description   designation  points  \\\n",
       "0  Aromas include tropical fruit, broom, brimston...  Vulkà Bianco      87   \n",
       "1  This is ripe and fruity, a wine that is smooth...      Avidagos      87   \n",
       "2  Tart and snappy, the flavors of lime flesh and...           NaN      87   \n",
       "\n",
       "   price           province           region_1               winery  \\\n",
       "0    NaN  Sicily & Sardinia               Etna              Nicosia   \n",
       "1   15.0              Douro                NaN  Quinta dos Avidagos   \n",
       "2   14.0             Oregon  Willamette Valley            Rainstorm   \n",
       "\n",
       "          variety  \n",
       "0     White Blend  \n",
       "1  Portuguese Red  \n",
       "2      Pinot Gris  "
      ]
     },
     "execution_count": 142,
     "metadata": {},
     "output_type": "execute_result"
    }
   ],
   "source": [
    "wine_data.head(3)"
   ]
  },
  {
   "cell_type": "markdown",
   "metadata": {
    "colab_type": "text",
    "id": "wEmH32-NPNUz"
   },
   "source": [
    "Imputing missing prices by the mode price of each country."
   ]
  },
  {
   "cell_type": "code",
   "execution_count": 143,
   "metadata": {
    "colab": {},
    "colab_type": "code",
    "id": "HCPL1vJTPPBO"
   },
   "outputs": [],
   "source": [
    "wine_data['price'] = wine_data.groupby(['country'])['price'].transform(lambda x: x.fillna(x.mode()[0]))"
   ]
  },
  {
   "cell_type": "code",
   "execution_count": 144,
   "metadata": {
    "colab": {
     "base_uri": "https://localhost:8080/",
     "height": 186
    },
    "colab_type": "code",
    "id": "VmXnOzsuPoRC",
    "outputId": "b9521bfd-1be7-41b4-dadf-3cf145e077d5"
   },
   "outputs": [
    {
     "data": {
      "text/html": [
       "<div>\n",
       "<style scoped>\n",
       "    .dataframe tbody tr th:only-of-type {\n",
       "        vertical-align: middle;\n",
       "    }\n",
       "\n",
       "    .dataframe tbody tr th {\n",
       "        vertical-align: top;\n",
       "    }\n",
       "\n",
       "    .dataframe thead th {\n",
       "        text-align: right;\n",
       "    }\n",
       "</style>\n",
       "<table border=\"1\" class=\"dataframe\">\n",
       "  <thead>\n",
       "    <tr style=\"text-align: right;\">\n",
       "      <th></th>\n",
       "      <th>country</th>\n",
       "      <th>review_title</th>\n",
       "      <th>review_description</th>\n",
       "      <th>designation</th>\n",
       "      <th>points</th>\n",
       "      <th>price</th>\n",
       "      <th>province</th>\n",
       "      <th>region_1</th>\n",
       "      <th>winery</th>\n",
       "      <th>variety</th>\n",
       "    </tr>\n",
       "  </thead>\n",
       "  <tbody>\n",
       "    <tr>\n",
       "      <th>0</th>\n",
       "      <td>Italy</td>\n",
       "      <td>Nicosia 2013 Vulkà Bianco  (Etna)</td>\n",
       "      <td>Aromas include tropical fruit, broom, brimston...</td>\n",
       "      <td>Vulkà Bianco</td>\n",
       "      <td>87</td>\n",
       "      <td>20.0</td>\n",
       "      <td>Sicily &amp; Sardinia</td>\n",
       "      <td>Etna</td>\n",
       "      <td>Nicosia</td>\n",
       "      <td>White Blend</td>\n",
       "    </tr>\n",
       "    <tr>\n",
       "      <th>1</th>\n",
       "      <td>Portugal</td>\n",
       "      <td>Quinta dos Avidagos 2011 Avidagos Red (Douro)</td>\n",
       "      <td>This is ripe and fruity, a wine that is smooth...</td>\n",
       "      <td>Avidagos</td>\n",
       "      <td>87</td>\n",
       "      <td>15.0</td>\n",
       "      <td>Douro</td>\n",
       "      <td>NaN</td>\n",
       "      <td>Quinta dos Avidagos</td>\n",
       "      <td>Portuguese Red</td>\n",
       "    </tr>\n",
       "    <tr>\n",
       "      <th>2</th>\n",
       "      <td>US</td>\n",
       "      <td>Rainstorm 2013 Pinot Gris (Willamette Valley)</td>\n",
       "      <td>Tart and snappy, the flavors of lime flesh and...</td>\n",
       "      <td>NaN</td>\n",
       "      <td>87</td>\n",
       "      <td>14.0</td>\n",
       "      <td>Oregon</td>\n",
       "      <td>Willamette Valley</td>\n",
       "      <td>Rainstorm</td>\n",
       "      <td>Pinot Gris</td>\n",
       "    </tr>\n",
       "  </tbody>\n",
       "</table>\n",
       "</div>"
      ],
      "text/plain": [
       "    country                                   review_title  \\\n",
       "0     Italy              Nicosia 2013 Vulkà Bianco  (Etna)   \n",
       "1  Portugal  Quinta dos Avidagos 2011 Avidagos Red (Douro)   \n",
       "2        US  Rainstorm 2013 Pinot Gris (Willamette Valley)   \n",
       "\n",
       "                                  review_description   designation  points  \\\n",
       "0  Aromas include tropical fruit, broom, brimston...  Vulkà Bianco      87   \n",
       "1  This is ripe and fruity, a wine that is smooth...      Avidagos      87   \n",
       "2  Tart and snappy, the flavors of lime flesh and...           NaN      87   \n",
       "\n",
       "   price           province           region_1               winery  \\\n",
       "0   20.0  Sicily & Sardinia               Etna              Nicosia   \n",
       "1   15.0              Douro                NaN  Quinta dos Avidagos   \n",
       "2   14.0             Oregon  Willamette Valley            Rainstorm   \n",
       "\n",
       "          variety  \n",
       "0     White Blend  \n",
       "1  Portuguese Red  \n",
       "2      Pinot Gris  "
      ]
     },
     "execution_count": 144,
     "metadata": {},
     "output_type": "execute_result"
    }
   ],
   "source": [
    "wine_data.head(3)"
   ]
  },
  {
   "cell_type": "code",
   "execution_count": 145,
   "metadata": {
    "colab": {
     "base_uri": "https://localhost:8080/",
     "height": 106
    },
    "colab_type": "code",
    "id": "iygRwFwJPm39",
    "outputId": "6eb78ae1-6348-4b38-b22a-3a1d54621721"
   },
   "outputs": [
    {
     "data": {
      "text/html": [
       "<div>\n",
       "<style scoped>\n",
       "    .dataframe tbody tr th:only-of-type {\n",
       "        vertical-align: middle;\n",
       "    }\n",
       "\n",
       "    .dataframe tbody tr th {\n",
       "        vertical-align: top;\n",
       "    }\n",
       "\n",
       "    .dataframe thead th {\n",
       "        text-align: right;\n",
       "    }\n",
       "</style>\n",
       "<table border=\"1\" class=\"dataframe\">\n",
       "  <thead>\n",
       "    <tr style=\"text-align: right;\">\n",
       "      <th></th>\n",
       "      <th>Total</th>\n",
       "      <th>Missing Percent</th>\n",
       "    </tr>\n",
       "  </thead>\n",
       "  <tbody>\n",
       "    <tr>\n",
       "      <th>designation</th>\n",
       "      <td>27359</td>\n",
       "      <td>28.672487</td>\n",
       "    </tr>\n",
       "    <tr>\n",
       "      <th>region_1</th>\n",
       "      <td>14768</td>\n",
       "      <td>15.477001</td>\n",
       "    </tr>\n",
       "  </tbody>\n",
       "</table>\n",
       "</div>"
      ],
      "text/plain": [
       "             Total  Missing Percent\n",
       "designation  27359        28.672487\n",
       "region_1     14768        15.477001"
      ]
     },
     "execution_count": 145,
     "metadata": {},
     "output_type": "execute_result"
    }
   ],
   "source": [
    "total = wine_data.isnull().sum().sort_values(ascending=False)\n",
    "percent = (wine_data.isnull().sum()/wine_data.isnull().count()).sort_values(ascending=False)\n",
    "missing_data = pd.concat([total, percent], axis=1, keys=['Total', 'Missing Percent'])\n",
    "missing_data['Missing Percent'] = missing_data['Missing Percent'].apply(lambda x: x * 100)\n",
    "missing_data.loc[missing_data['Missing Percent'] > 0][:10]"
   ]
  },
  {
   "cell_type": "markdown",
   "metadata": {
    "colab_type": "text",
    "id": "2OJa2l5qv1ta"
   },
   "source": [
    "Now we are left with missing values in designation and region_1 column.If we analyze the review title column carefully then we can see that it contains the folloing informations.\n",
    "\n",
    "*   Year (can be assumed as the production year)\n",
    "*   Winery name (First part of the title,before year)\n",
    "*   Province or region_1 (Last part inside parenthesis)\n",
    "\n",
    "It also contains informations related to designation and variety but it is hard to differentiate as there are more than 27000 records where designation is not available.\n",
    "\n",
    "\n",
    "\n",
    "\n",
    "\n",
    "\n"
   ]
  },
  {
   "cell_type": "markdown",
   "metadata": {
    "colab_type": "text",
    "id": "KK3w4MyOdHUT"
   },
   "source": [
    "**Creating new feature of wine age from the date available in review title column**"
   ]
  },
  {
   "cell_type": "code",
   "execution_count": 146,
   "metadata": {
    "colab": {},
    "colab_type": "code",
    "id": "AREc-0Xv3U5g"
   },
   "outputs": [],
   "source": [
    "import re\n",
    "import datetime"
   ]
  },
  {
   "cell_type": "code",
   "execution_count": 147,
   "metadata": {
    "colab": {},
    "colab_type": "code",
    "id": "rT5_c0WUisgc"
   },
   "outputs": [],
   "source": [
    "def find_wine_age(data,col):\n",
    "  MFG = []\n",
    "  for i in range(len(data[col])):\n",
    "    temp = re.findall(r'\\b(\\d{4})\\b',data[col][i])\n",
    "    designation = data['designation'][i]\n",
    "    if pd.isnull(designation):\n",
    "      temp = [j for j in temp if j not in ['']]\n",
    "    else:\n",
    "      temp = [j for j in temp if j not in designation]\n",
    "    year = ''.join([i for i in temp if not i=='' and int(i)>1950 and int(i)<2021])\n",
    "    MFG.append(year)\n",
    "  data['MFG'] = pd.Series(MFG)\n",
    "  data['wine_age'] = data.MFG.apply(lambda x: datetime.date.today().year - int(x) if not x == '' else 0)\n",
    "  data.drop('MFG',axis=1,inplace=True)\n",
    "  return data"
   ]
  },
  {
   "cell_type": "code",
   "execution_count": 148,
   "metadata": {
    "colab": {},
    "colab_type": "code",
    "id": "RvPbVpFzkN5N"
   },
   "outputs": [],
   "source": [
    "wine_data = find_wine_age(wine_data,col='review_title')"
   ]
  },
  {
   "cell_type": "code",
   "execution_count": 149,
   "metadata": {
    "colab": {
     "base_uri": "https://localhost:8080/",
     "height": 186
    },
    "colab_type": "code",
    "id": "xh_rhWZIlHF8",
    "outputId": "0a94cf49-5924-457f-a6d9-b6ef7b13d6be"
   },
   "outputs": [
    {
     "data": {
      "text/html": [
       "<div>\n",
       "<style scoped>\n",
       "    .dataframe tbody tr th:only-of-type {\n",
       "        vertical-align: middle;\n",
       "    }\n",
       "\n",
       "    .dataframe tbody tr th {\n",
       "        vertical-align: top;\n",
       "    }\n",
       "\n",
       "    .dataframe thead th {\n",
       "        text-align: right;\n",
       "    }\n",
       "</style>\n",
       "<table border=\"1\" class=\"dataframe\">\n",
       "  <thead>\n",
       "    <tr style=\"text-align: right;\">\n",
       "      <th></th>\n",
       "      <th>country</th>\n",
       "      <th>review_title</th>\n",
       "      <th>review_description</th>\n",
       "      <th>designation</th>\n",
       "      <th>points</th>\n",
       "      <th>price</th>\n",
       "      <th>province</th>\n",
       "      <th>region_1</th>\n",
       "      <th>winery</th>\n",
       "      <th>variety</th>\n",
       "      <th>wine_age</th>\n",
       "    </tr>\n",
       "  </thead>\n",
       "  <tbody>\n",
       "    <tr>\n",
       "      <th>66431</th>\n",
       "      <td>Italy</td>\n",
       "      <td>Barberani 2009 Foresco Red (Umbria)</td>\n",
       "      <td>This oak-aged blend of Sangiovese (50%), Merlo...</td>\n",
       "      <td>Foresco</td>\n",
       "      <td>87</td>\n",
       "      <td>18.0</td>\n",
       "      <td>Central Italy</td>\n",
       "      <td>Umbria</td>\n",
       "      <td>Barberani</td>\n",
       "      <td>Red Blend</td>\n",
       "      <td>11</td>\n",
       "    </tr>\n",
       "    <tr>\n",
       "      <th>68244</th>\n",
       "      <td>US</td>\n",
       "      <td>Silver Thread 2014 STV Estate Vineyard Gewurzt...</td>\n",
       "      <td>Tropical mango and melon mingle elegantly into...</td>\n",
       "      <td>STV Estate Vineyard</td>\n",
       "      <td>90</td>\n",
       "      <td>18.0</td>\n",
       "      <td>New York</td>\n",
       "      <td>Finger Lakes</td>\n",
       "      <td>Silver Thread</td>\n",
       "      <td>Gewürztraminer</td>\n",
       "      <td>6</td>\n",
       "    </tr>\n",
       "    <tr>\n",
       "      <th>37927</th>\n",
       "      <td>US</td>\n",
       "      <td>Mersenne 2013 Lawrence Vineyard Cabernet Franc...</td>\n",
       "      <td>Fruity in stewed plum and cherry, this is a ro...</td>\n",
       "      <td>Lawrence Vineyard</td>\n",
       "      <td>90</td>\n",
       "      <td>55.0</td>\n",
       "      <td>California</td>\n",
       "      <td>St. Helena</td>\n",
       "      <td>Mersenne</td>\n",
       "      <td>Cabernet Franc</td>\n",
       "      <td>7</td>\n",
       "    </tr>\n",
       "  </tbody>\n",
       "</table>\n",
       "</div>"
      ],
      "text/plain": [
       "      country                                       review_title  \\\n",
       "66431   Italy                Barberani 2009 Foresco Red (Umbria)   \n",
       "68244      US  Silver Thread 2014 STV Estate Vineyard Gewurzt...   \n",
       "37927      US  Mersenne 2013 Lawrence Vineyard Cabernet Franc...   \n",
       "\n",
       "                                      review_description          designation  \\\n",
       "66431  This oak-aged blend of Sangiovese (50%), Merlo...              Foresco   \n",
       "68244  Tropical mango and melon mingle elegantly into...  STV Estate Vineyard   \n",
       "37927  Fruity in stewed plum and cherry, this is a ro...    Lawrence Vineyard   \n",
       "\n",
       "       points  price       province      region_1         winery  \\\n",
       "66431      87   18.0  Central Italy        Umbria      Barberani   \n",
       "68244      90   18.0       New York  Finger Lakes  Silver Thread   \n",
       "37927      90   55.0     California    St. Helena       Mersenne   \n",
       "\n",
       "              variety  wine_age  \n",
       "66431       Red Blend        11  \n",
       "68244  Gewürztraminer         6  \n",
       "37927  Cabernet Franc         7  "
      ]
     },
     "execution_count": 149,
     "metadata": {},
     "output_type": "execute_result"
    }
   ],
   "source": [
    "wine_data.sample(3)"
   ]
  },
  {
   "cell_type": "markdown",
   "metadata": {},
   "source": [
    "### EDA"
   ]
  },
  {
   "cell_type": "code",
   "execution_count": 150,
   "metadata": {},
   "outputs": [],
   "source": [
    "wine_origin = wine_data.groupby(['country']).size()"
   ]
  },
  {
   "cell_type": "code",
   "execution_count": 151,
   "metadata": {},
   "outputs": [],
   "source": [
    "wine_origin = pd.DataFrame(wine_origin,columns=['count'])\n",
    "wine_origin.reset_index(inplace=True)\n",
    "wine_origin.sort_values(by=['count'],inplace=True)"
   ]
  },
  {
   "cell_type": "code",
   "execution_count": 152,
   "metadata": {},
   "outputs": [
    {
     "data": {
      "image/png": "[encoded data removed]",
      "text/plain": [
       "<Figure size 1296x576 with 1 Axes>"
      ]
     },
     "metadata": {
      "needs_background": "light"
     },
     "output_type": "display_data"
    }
   ],
   "source": [
    "wine_origin.plot.barh(x='country', y='count',figsize=(18,8),title='Wine origin',legend=False);"
   ]
  },
  {
   "cell_type": "code",
   "execution_count": 153,
   "metadata": {},
   "outputs": [
    {
     "data": {
      "image/png": "[encoded data removed]",
      "text/plain": [
       "<Figure size 1296x576 with 1 Axes>"
      ]
     },
     "metadata": {
      "needs_background": "light"
     },
     "output_type": "display_data"
    }
   ],
   "source": [
    "wine_data.hist(column='points',figsize=(18,8));"
   ]
  },
  {
   "cell_type": "code",
   "execution_count": 154,
   "metadata": {},
   "outputs": [],
   "source": [
    "country_province=wine_data.groupby(['country', 'province']).size().sort_values(ascending=True) .reset_index(name='count').drop_duplicates(subset='province')"
   ]
  },
  {
   "cell_type": "code",
   "execution_count": 155,
   "metadata": {},
   "outputs": [],
   "source": [
    "country_province['country_province']=country_province['country']+'-'+country_province['province']\n",
    "country_province=country_province.tail(20)"
   ]
  },
  {
   "cell_type": "code",
   "execution_count": 156,
   "metadata": {},
   "outputs": [
    {
     "data": {
      "image/png": "[encoded data removed]",
      "text/plain": [
       "<Figure size 1296x576 with 1 Axes>"
      ]
     },
     "metadata": {
      "needs_background": "light"
     },
     "output_type": "display_data"
    }
   ],
   "source": [
    "country_province.plot.barh(x='country_province', y='count',figsize=(18,8),title='Wine origin',legend=False);"
   ]
  },
  {
   "cell_type": "code",
   "execution_count": 173,
   "metadata": {},
   "outputs": [],
   "source": [
    "country_variety=wine_data.groupby(['country', 'variety']).size().sort_values(ascending=True) .reset_index(name='count')"
   ]
  },
  {
   "cell_type": "code",
   "execution_count": 174,
   "metadata": {},
   "outputs": [],
   "source": [
    "country_variety['country_variety']=country_variety['country']+'-'+country_variety['variety']\n",
    "country_variety=country_variety.tail(20)"
   ]
  },
  {
   "cell_type": "code",
   "execution_count": 176,
   "metadata": {},
   "outputs": [
    {
     "data": {
      "image/png": "[encoded data removed]",
      "text/plain": [
       "<Figure size 1296x576 with 1 Axes>"
      ]
     },
     "metadata": {
      "needs_background": "light"
     },
     "output_type": "display_data"
    }
   ],
   "source": [
    "country_variety.plot.barh(x='country_variety', y='count',figsize=(18,8),title='Country wise wine production of the top varities',legend=False);"
   ]
  },
  {
   "cell_type": "code",
   "execution_count": 157,
   "metadata": {
    "colab": {},
    "colab_type": "code",
    "id": "HjCJpPGHlhlF"
   },
   "outputs": [],
   "source": [
    "import warnings\n",
    "warnings.simplefilter('ignore')"
   ]
  },
  {
   "cell_type": "markdown",
   "metadata": {
    "colab_type": "text",
    "id": "LptIi7XOVMWN"
   },
   "source": [
    "**Building predictive model**"
   ]
  },
  {
   "cell_type": "markdown",
   "metadata": {},
   "source": [
    "Idea is to take user review as input and then predict the wine variety."
   ]
  },
  {
   "cell_type": "markdown",
   "metadata": {
    "colab_type": "text",
    "id": "qsoPVw7jpSFo"
   },
   "source": [
    "Checking class distribution."
   ]
  },
  {
   "cell_type": "code",
   "execution_count": 158,
   "metadata": {
    "colab": {},
    "colab_type": "code",
    "id": "rL7Zsgo8UD_d"
   },
   "outputs": [],
   "source": [
    "class_distribution = (round(wine_data.variety.value_counts()/wine_data.shape[0]*100,2)).to_frame()\n",
    "class_distribution.reset_index(inplace=True)"
   ]
  },
  {
   "cell_type": "code",
   "execution_count": 159,
   "metadata": {
    "colab": {},
    "colab_type": "code",
    "id": "zhs_2ZINqWIB"
   },
   "outputs": [],
   "source": [
    "cols = ['variety','frequency']\n",
    "class_distribution.columns = cols"
   ]
  },
  {
   "cell_type": "code",
   "execution_count": 160,
   "metadata": {
    "colab": {
     "base_uri": "https://localhost:8080/",
     "height": 626
    },
    "colab_type": "code",
    "id": "6uvP177joStB",
    "outputId": "50d4f5be-5037-4a6b-9b9b-33627bb662cb"
   },
   "outputs": [
    {
     "data": {
      "image/png": "[encoded data removed]",
      "text/plain": [
       "<Figure size 1296x576 with 1 Axes>"
      ]
     },
     "metadata": {
      "needs_background": "light"
     },
     "output_type": "display_data"
    }
   ],
   "source": [
    "class_distribution.plot.bar(x='variety', y='frequency',figsize=(18,8),title='Wine variety',legend=False);"
   ]
  },
  {
   "cell_type": "markdown",
   "metadata": {
    "colab_type": "text",
    "id": "9kCZCirZzk7_"
   },
   "source": [
    "Splitting dataset into train and test"
   ]
  },
  {
   "cell_type": "code",
   "execution_count": 25,
   "metadata": {
    "colab": {},
    "colab_type": "code",
    "id": "ic6RIt1oV5aN"
   },
   "outputs": [],
   "source": [
    "from sklearn.model_selection import train_test_split"
   ]
  },
  {
   "cell_type": "code",
   "execution_count": 26,
   "metadata": {
    "colab": {},
    "colab_type": "code",
    "id": "X2WC8XvazoUI"
   },
   "outputs": [],
   "source": [
    "X = wine_data[['review_description']]\n",
    "y = wine_data['variety']"
   ]
  },
  {
   "cell_type": "code",
   "execution_count": 27,
   "metadata": {
    "colab": {},
    "colab_type": "code",
    "id": "i6SPYlEZ0EvM"
   },
   "outputs": [],
   "source": [
    "X_train, X_test, y_train, y_test = train_test_split(X, y,stratify=y, test_size=0.20)"
   ]
  },
  {
   "cell_type": "code",
   "execution_count": 28,
   "metadata": {
    "colab": {
     "base_uri": "https://localhost:8080/",
     "height": 101
    },
    "colab_type": "code",
    "id": "fXNmYZoT-tVK",
    "outputId": "d62b34e8-89b2-4ced-c975-e4ca4ada79e2"
   },
   "outputs": [
    {
     "name": "stderr",
     "output_type": "stream",
     "text": [
      "[nltk_data] Downloading package punkt to\n",
      "[nltk_data]     C:\\Users\\biswa\\AppData\\Roaming\\nltk_data...\n",
      "[nltk_data]   Package punkt is already up-to-date!\n"
     ]
    },
    {
     "data": {
      "text/plain": [
       "True"
      ]
     },
     "execution_count": 28,
     "metadata": {},
     "output_type": "execute_result"
    }
   ],
   "source": [
    "import re\n",
    "from string import punctuation\n",
    "import nltk\n",
    "nltk.download('punkt')\n",
    "#nltk.download('stopwords')"
   ]
  },
  {
   "cell_type": "code",
   "execution_count": 29,
   "metadata": {
    "colab": {},
    "colab_type": "code",
    "id": "Wd5O-YTU-tVM"
   },
   "outputs": [],
   "source": [
    "p = re.compile(r'[\\s{}0-9]+'.format(re.escape(punctuation)))"
   ]
  },
  {
   "cell_type": "code",
   "execution_count": 30,
   "metadata": {
    "colab": {},
    "colab_type": "code",
    "id": "pFjzmABD-tVO"
   },
   "outputs": [],
   "source": [
    "from nltk.corpus import stopwords\n",
    "stop_words = list(stopwords.words('english'))"
   ]
  },
  {
   "cell_type": "code",
   "execution_count": 31,
   "metadata": {
    "colab": {},
    "colab_type": "code",
    "id": "7D-ywQ7A-tVQ"
   },
   "outputs": [],
   "source": [
    "def cleantexts(df,punctuation_patterns,col):\n",
    "    df[col] = df[col].apply(lambda x: ' '.join([word.lower() for word in nltk.word_tokenize(x)]))\n",
    "    df[col] = df[col].apply(lambda x:' '.join([ i for i in nltk.word_tokenize(x) if i not in stop_words and len(i)>1])) #and not i.isnumeric() and not i.isalpha()\n",
    "    df[col] = df[col].apply(lambda x: re.sub(punctuation_patterns,' ',x))\n",
    "    return df "
   ]
  },
  {
   "cell_type": "code",
   "execution_count": 32,
   "metadata": {
    "colab": {},
    "colab_type": "code",
    "id": "Cyj6MKR3-tVS"
   },
   "outputs": [],
   "source": [
    "X_train = cleantexts(df=X_train,punctuation_patterns=p,col='review_description')"
   ]
  },
  {
   "cell_type": "code",
   "execution_count": 33,
   "metadata": {
    "colab": {
     "base_uri": "https://localhost:8080/",
     "height": 136
    },
    "colab_type": "code",
    "id": "i2NdNaQa-tVX",
    "outputId": "99c08867-c10b-4ddb-9d44-ae181eb81a93"
   },
   "outputs": [
    {
     "data": {
      "text/html": [
       "<div>\n",
       "<style scoped>\n",
       "    .dataframe tbody tr th:only-of-type {\n",
       "        vertical-align: middle;\n",
       "    }\n",
       "\n",
       "    .dataframe tbody tr th {\n",
       "        vertical-align: top;\n",
       "    }\n",
       "\n",
       "    .dataframe thead th {\n",
       "        text-align: right;\n",
       "    }\n",
       "</style>\n",
       "<table border=\"1\" class=\"dataframe\">\n",
       "  <thead>\n",
       "    <tr style=\"text-align: right;\">\n",
       "      <th></th>\n",
       "      <th>review_description</th>\n",
       "    </tr>\n",
       "  </thead>\n",
       "  <tbody>\n",
       "    <tr>\n",
       "      <th>49393</th>\n",
       "      <td>spicy rubbery subtle berry aromas come hard sm...</td>\n",
       "    </tr>\n",
       "    <tr>\n",
       "      <th>2497</th>\n",
       "      <td>planted laguna de santa rosa near sebastopol b...</td>\n",
       "    </tr>\n",
       "    <tr>\n",
       "      <th>9367</th>\n",
       "      <td>light color considerable acidity wine boasts c...</td>\n",
       "    </tr>\n",
       "  </tbody>\n",
       "</table>\n",
       "</div>"
      ],
      "text/plain": [
       "                                      review_description\n",
       "49393  spicy rubbery subtle berry aromas come hard sm...\n",
       "2497   planted laguna de santa rosa near sebastopol b...\n",
       "9367   light color considerable acidity wine boasts c..."
      ]
     },
     "execution_count": 33,
     "metadata": {},
     "output_type": "execute_result"
    }
   ],
   "source": [
    "X_train.sample(3)"
   ]
  },
  {
   "cell_type": "markdown",
   "metadata": {
    "colab_type": "text",
    "id": "PUcXNg7l-tVa"
   },
   "source": [
    "Creating tf-idf features"
   ]
  },
  {
   "cell_type": "code",
   "execution_count": 34,
   "metadata": {
    "colab": {
     "base_uri": "https://localhost:8080/",
     "height": 185
    },
    "colab_type": "code",
    "id": "aJjWS9IE-tVd",
    "outputId": "58d7c29c-7f06-4b8f-b4d5-f4a982ed03c6"
   },
   "outputs": [
    {
     "data": {
      "text/html": [
       "<div>\n",
       "<style scoped>\n",
       "    .dataframe tbody tr th:only-of-type {\n",
       "        vertical-align: middle;\n",
       "    }\n",
       "\n",
       "    .dataframe tbody tr th {\n",
       "        vertical-align: top;\n",
       "    }\n",
       "\n",
       "    .dataframe thead tr th {\n",
       "        text-align: left;\n",
       "    }\n",
       "</style>\n",
       "<table border=\"1\" class=\"dataframe\">\n",
       "  <thead>\n",
       "    <tr>\n",
       "      <th></th>\n",
       "      <th>abound</th>\n",
       "      <th>absolutely</th>\n",
       "      <th>abundance</th>\n",
       "      <th>abundant</th>\n",
       "      <th>acacia</th>\n",
       "      <th>accent</th>\n",
       "      <th>accented</th>\n",
       "      <th>accents</th>\n",
       "      <th>accessible</th>\n",
       "      <th>accompanied</th>\n",
       "      <th>...</th>\n",
       "      <th>youth</th>\n",
       "      <th>youthful</th>\n",
       "      <th>youthfully</th>\n",
       "      <th>zest</th>\n",
       "      <th>zestiness</th>\n",
       "      <th>zesty</th>\n",
       "      <th>zin</th>\n",
       "      <th>zinfandel</th>\n",
       "      <th>zingy</th>\n",
       "      <th>zippy</th>\n",
       "    </tr>\n",
       "  </thead>\n",
       "  <tbody>\n",
       "    <tr>\n",
       "      <th>21654</th>\n",
       "      <td>0.0</td>\n",
       "      <td>0.0</td>\n",
       "      <td>0.0</td>\n",
       "      <td>0.0</td>\n",
       "      <td>0.0</td>\n",
       "      <td>0.0</td>\n",
       "      <td>0.0</td>\n",
       "      <td>0.0</td>\n",
       "      <td>0.0</td>\n",
       "      <td>0.0</td>\n",
       "      <td>...</td>\n",
       "      <td>0.0</td>\n",
       "      <td>0.0</td>\n",
       "      <td>0.0</td>\n",
       "      <td>0.0</td>\n",
       "      <td>0.0</td>\n",
       "      <td>0.0</td>\n",
       "      <td>0.0</td>\n",
       "      <td>0.0</td>\n",
       "      <td>0.0</td>\n",
       "      <td>0.000000</td>\n",
       "    </tr>\n",
       "    <tr>\n",
       "      <th>7155</th>\n",
       "      <td>0.0</td>\n",
       "      <td>0.0</td>\n",
       "      <td>0.0</td>\n",
       "      <td>0.0</td>\n",
       "      <td>0.0</td>\n",
       "      <td>0.0</td>\n",
       "      <td>0.0</td>\n",
       "      <td>0.0</td>\n",
       "      <td>0.0</td>\n",
       "      <td>0.0</td>\n",
       "      <td>...</td>\n",
       "      <td>0.0</td>\n",
       "      <td>0.0</td>\n",
       "      <td>0.0</td>\n",
       "      <td>0.0</td>\n",
       "      <td>0.0</td>\n",
       "      <td>0.0</td>\n",
       "      <td>0.0</td>\n",
       "      <td>0.0</td>\n",
       "      <td>0.0</td>\n",
       "      <td>0.295686</td>\n",
       "    </tr>\n",
       "    <tr>\n",
       "      <th>13263</th>\n",
       "      <td>0.0</td>\n",
       "      <td>0.0</td>\n",
       "      <td>0.0</td>\n",
       "      <td>0.0</td>\n",
       "      <td>0.0</td>\n",
       "      <td>0.0</td>\n",
       "      <td>0.0</td>\n",
       "      <td>0.0</td>\n",
       "      <td>0.0</td>\n",
       "      <td>0.0</td>\n",
       "      <td>...</td>\n",
       "      <td>0.0</td>\n",
       "      <td>0.0</td>\n",
       "      <td>0.0</td>\n",
       "      <td>0.0</td>\n",
       "      <td>0.0</td>\n",
       "      <td>0.0</td>\n",
       "      <td>0.0</td>\n",
       "      <td>0.0</td>\n",
       "      <td>0.0</td>\n",
       "      <td>0.000000</td>\n",
       "    </tr>\n",
       "  </tbody>\n",
       "</table>\n",
       "<p>3 rows × 2000 columns</p>\n",
       "</div>"
      ],
      "text/plain": [
       "      abound absolutely abundance abundant acacia accent accented accents  \\\n",
       "21654    0.0        0.0       0.0      0.0    0.0    0.0      0.0     0.0   \n",
       "7155     0.0        0.0       0.0      0.0    0.0    0.0      0.0     0.0   \n",
       "13263    0.0        0.0       0.0      0.0    0.0    0.0      0.0     0.0   \n",
       "\n",
       "      accessible accompanied    ...    youth youthful youthfully zest  \\\n",
       "21654        0.0         0.0    ...      0.0      0.0        0.0  0.0   \n",
       "7155         0.0         0.0    ...      0.0      0.0        0.0  0.0   \n",
       "13263        0.0         0.0    ...      0.0      0.0        0.0  0.0   \n",
       "\n",
       "      zestiness zesty  zin zinfandel zingy     zippy  \n",
       "21654       0.0   0.0  0.0       0.0   0.0  0.000000  \n",
       "7155        0.0   0.0  0.0       0.0   0.0  0.295686  \n",
       "13263       0.0   0.0  0.0       0.0   0.0  0.000000  \n",
       "\n",
       "[3 rows x 2000 columns]"
      ]
     },
     "execution_count": 34,
     "metadata": {},
     "output_type": "execute_result"
    }
   ],
   "source": [
    "vectorizer_rvdesc = TfidfVectorizer(sublinear_tf =True,min_df=2,max_df=0.9,max_features = 2000)\n",
    "x = vectorizer_rvdesc.fit_transform(X_train['review_description'])\n",
    "feature_desc = pd.DataFrame(x.toarray())\n",
    "columns = [vectorizer_rvdesc.get_feature_names()]\n",
    "feature_desc.columns = columns\n",
    "feature_desc.sample(3)"
   ]
  },
  {
   "cell_type": "markdown",
   "metadata": {},
   "source": [
    "Saving tf-idf vectorizer"
   ]
  },
  {
   "cell_type": "code",
   "execution_count": 69,
   "metadata": {},
   "outputs": [],
   "source": [
    "pickle.dump(vectorizer_rvdesc, open('vectorizer_rvdesc.pkl', 'wb'))"
   ]
  },
  {
   "cell_type": "markdown",
   "metadata": {
    "colab_type": "text",
    "id": "zFfiyLm_-tVe"
   },
   "source": [
    "Combining tf-idf features to create final featuremap"
   ]
  },
  {
   "cell_type": "markdown",
   "metadata": {
    "colab_type": "text",
    "id": "smkV0_Yy-tVq"
   },
   "source": [
    "Fitting model"
   ]
  },
  {
   "cell_type": "code",
   "execution_count": 35,
   "metadata": {
    "colab": {},
    "colab_type": "code",
    "id": "W09ykkzM-tVr"
   },
   "outputs": [],
   "source": [
    "from sklearn.preprocessing import LabelEncoder"
   ]
  },
  {
   "cell_type": "code",
   "execution_count": 36,
   "metadata": {
    "colab": {},
    "colab_type": "code",
    "id": "Chjj9XDt-tVs"
   },
   "outputs": [],
   "source": [
    "label_encoder = LabelEncoder()"
   ]
  },
  {
   "cell_type": "code",
   "execution_count": 37,
   "metadata": {
    "colab": {},
    "colab_type": "code",
    "id": "HSl3LQ9R-tVu"
   },
   "outputs": [],
   "source": [
    "y_label_train = label_encoder.fit_transform(y_train)"
   ]
  },
  {
   "cell_type": "code",
   "execution_count": 38,
   "metadata": {
    "colab": {
     "base_uri": "https://localhost:8080/",
     "height": 34
    },
    "colab_type": "code",
    "id": "XCAaY32Y-tVx",
    "outputId": "407ddc15-4887-4219-fca7-43f3f7eb9fd8"
   },
   "outputs": [
    {
     "data": {
      "text/plain": [
       "array([11, 17,  4, ...,  3, 20,  5])"
      ]
     },
     "execution_count": 38,
     "metadata": {},
     "output_type": "execute_result"
    }
   ],
   "source": [
    "y_label_train"
   ]
  },
  {
   "cell_type": "markdown",
   "metadata": {},
   "source": [
    "Saving the label encoder"
   ]
  },
  {
   "cell_type": "code",
   "execution_count": 68,
   "metadata": {},
   "outputs": [],
   "source": [
    "pickle.dump(label_encoder, open('label_encoder.pkl', 'wb'))"
   ]
  },
  {
   "cell_type": "code",
   "execution_count": 39,
   "metadata": {
    "colab": {},
    "colab_type": "code",
    "id": "p4zBJkIH-tV9"
   },
   "outputs": [],
   "source": [
    "import xgboost as xgb\n",
    "dtrain = xgb.DMatrix(data=feature_desc, label=y_label_train)"
   ]
  },
  {
   "cell_type": "code",
   "execution_count": 40,
   "metadata": {
    "colab": {},
    "colab_type": "code",
    "id": "m3tIWVM0-tV_"
   },
   "outputs": [],
   "source": [
    "params = {\n",
    "    'max_depth': 6,\n",
    "    'objective': 'multi:softmax',  # error evaluation for multiclass training\n",
    "    'num_class': 28,\n",
    "    'n_gpus': 0\n",
    "}"
   ]
  },
  {
   "cell_type": "code",
   "execution_count": 41,
   "metadata": {
    "colab": {},
    "colab_type": "code",
    "id": "a8BkbyyuADD7"
   },
   "outputs": [],
   "source": [
    "bst = xgb.train(params, dtrain)"
   ]
  },
  {
   "cell_type": "markdown",
   "metadata": {},
   "source": [
    "Saving the trained model"
   ]
  },
  {
   "cell_type": "code",
   "execution_count": 66,
   "metadata": {},
   "outputs": [],
   "source": [
    "import pickle"
   ]
  },
  {
   "cell_type": "code",
   "execution_count": 67,
   "metadata": {},
   "outputs": [],
   "source": [
    "pickle.dump(bst, open('bst.sav', 'wb'))"
   ]
  },
  {
   "cell_type": "markdown",
   "metadata": {},
   "source": [
    "Prediction on test data"
   ]
  },
  {
   "cell_type": "code",
   "execution_count": 70,
   "metadata": {
    "colab": {},
    "colab_type": "code",
    "id": "iPet75v0E0vQ"
   },
   "outputs": [],
   "source": [
    "X_test = cleantexts(df=X_test,punctuation_patterns=p,col='review_description')"
   ]
  },
  {
   "cell_type": "code",
   "execution_count": 71,
   "metadata": {
    "colab": {
     "base_uri": "https://localhost:8080/",
     "height": 185
    },
    "colab_type": "code",
    "id": "C6zWQijRE_II",
    "outputId": "3a46a257-9631-4c4f-8e94-a5d131b4984b"
   },
   "outputs": [
    {
     "data": {
      "text/html": [
       "<div>\n",
       "<style scoped>\n",
       "    .dataframe tbody tr th:only-of-type {\n",
       "        vertical-align: middle;\n",
       "    }\n",
       "\n",
       "    .dataframe tbody tr th {\n",
       "        vertical-align: top;\n",
       "    }\n",
       "\n",
       "    .dataframe thead tr th {\n",
       "        text-align: left;\n",
       "    }\n",
       "</style>\n",
       "<table border=\"1\" class=\"dataframe\">\n",
       "  <thead>\n",
       "    <tr>\n",
       "      <th></th>\n",
       "      <th>abound</th>\n",
       "      <th>absolutely</th>\n",
       "      <th>abundance</th>\n",
       "      <th>abundant</th>\n",
       "      <th>acacia</th>\n",
       "      <th>accent</th>\n",
       "      <th>accented</th>\n",
       "      <th>accents</th>\n",
       "      <th>accessible</th>\n",
       "      <th>accompanied</th>\n",
       "      <th>...</th>\n",
       "      <th>youth</th>\n",
       "      <th>youthful</th>\n",
       "      <th>youthfully</th>\n",
       "      <th>zest</th>\n",
       "      <th>zestiness</th>\n",
       "      <th>zesty</th>\n",
       "      <th>zin</th>\n",
       "      <th>zinfandel</th>\n",
       "      <th>zingy</th>\n",
       "      <th>zippy</th>\n",
       "    </tr>\n",
       "  </thead>\n",
       "  <tbody>\n",
       "    <tr>\n",
       "      <th>14767</th>\n",
       "      <td>0.0</td>\n",
       "      <td>0.0</td>\n",
       "      <td>0.0</td>\n",
       "      <td>0.0</td>\n",
       "      <td>0.0</td>\n",
       "      <td>0.0</td>\n",
       "      <td>0.0</td>\n",
       "      <td>0.0</td>\n",
       "      <td>0.0</td>\n",
       "      <td>0.0</td>\n",
       "      <td>...</td>\n",
       "      <td>0.0</td>\n",
       "      <td>0.0</td>\n",
       "      <td>0.0</td>\n",
       "      <td>0.0</td>\n",
       "      <td>0.0</td>\n",
       "      <td>0.0</td>\n",
       "      <td>0.0</td>\n",
       "      <td>0.0</td>\n",
       "      <td>0.0</td>\n",
       "      <td>0.0</td>\n",
       "    </tr>\n",
       "    <tr>\n",
       "      <th>18622</th>\n",
       "      <td>0.0</td>\n",
       "      <td>0.0</td>\n",
       "      <td>0.0</td>\n",
       "      <td>0.0</td>\n",
       "      <td>0.0</td>\n",
       "      <td>0.0</td>\n",
       "      <td>0.0</td>\n",
       "      <td>0.0</td>\n",
       "      <td>0.0</td>\n",
       "      <td>0.0</td>\n",
       "      <td>...</td>\n",
       "      <td>0.0</td>\n",
       "      <td>0.0</td>\n",
       "      <td>0.0</td>\n",
       "      <td>0.0</td>\n",
       "      <td>0.0</td>\n",
       "      <td>0.0</td>\n",
       "      <td>0.0</td>\n",
       "      <td>0.0</td>\n",
       "      <td>0.0</td>\n",
       "      <td>0.0</td>\n",
       "    </tr>\n",
       "    <tr>\n",
       "      <th>14842</th>\n",
       "      <td>0.0</td>\n",
       "      <td>0.0</td>\n",
       "      <td>0.0</td>\n",
       "      <td>0.0</td>\n",
       "      <td>0.0</td>\n",
       "      <td>0.0</td>\n",
       "      <td>0.0</td>\n",
       "      <td>0.0</td>\n",
       "      <td>0.0</td>\n",
       "      <td>0.0</td>\n",
       "      <td>...</td>\n",
       "      <td>0.0</td>\n",
       "      <td>0.0</td>\n",
       "      <td>0.0</td>\n",
       "      <td>0.0</td>\n",
       "      <td>0.0</td>\n",
       "      <td>0.0</td>\n",
       "      <td>0.0</td>\n",
       "      <td>0.0</td>\n",
       "      <td>0.0</td>\n",
       "      <td>0.0</td>\n",
       "    </tr>\n",
       "  </tbody>\n",
       "</table>\n",
       "<p>3 rows × 2000 columns</p>\n",
       "</div>"
      ],
      "text/plain": [
       "      abound absolutely abundance abundant acacia accent accented accents  \\\n",
       "14767    0.0        0.0       0.0      0.0    0.0    0.0      0.0     0.0   \n",
       "18622    0.0        0.0       0.0      0.0    0.0    0.0      0.0     0.0   \n",
       "14842    0.0        0.0       0.0      0.0    0.0    0.0      0.0     0.0   \n",
       "\n",
       "      accessible accompanied  ...  youth youthful youthfully zest zestiness  \\\n",
       "14767        0.0         0.0  ...    0.0      0.0        0.0  0.0       0.0   \n",
       "18622        0.0         0.0  ...    0.0      0.0        0.0  0.0       0.0   \n",
       "14842        0.0         0.0  ...    0.0      0.0        0.0  0.0       0.0   \n",
       "\n",
       "      zesty  zin zinfandel zingy zippy  \n",
       "14767   0.0  0.0       0.0   0.0   0.0  \n",
       "18622   0.0  0.0       0.0   0.0   0.0  \n",
       "14842   0.0  0.0       0.0   0.0   0.0  \n",
       "\n",
       "[3 rows x 2000 columns]"
      ]
     },
     "execution_count": 71,
     "metadata": {},
     "output_type": "execute_result"
    }
   ],
   "source": [
    "x_test = vectorizer_rvdesc.transform(X_test['review_description'])\n",
    "feature_desc_test = pd.DataFrame(x_test.toarray())\n",
    "columns_test = [vectorizer_rvdesc.get_feature_names()]\n",
    "feature_desc_test.columns = columns_test\n",
    "feature_desc_test.sample(3)"
   ]
  },
  {
   "cell_type": "code",
   "execution_count": 72,
   "metadata": {
    "colab": {},
    "colab_type": "code",
    "id": "ADPpgsJoFmkg"
   },
   "outputs": [],
   "source": [
    "y_label_test = label_encoder.transform(y_test)"
   ]
  },
  {
   "cell_type": "code",
   "execution_count": 73,
   "metadata": {
    "colab": {
     "base_uri": "https://localhost:8080/",
     "height": 34
    },
    "colab_type": "code",
    "id": "sDlOpzNfFt7h",
    "outputId": "da4ccca1-ac7f-4be4-c995-53fd6e372b64"
   },
   "outputs": [
    {
     "data": {
      "text/plain": [
       "array([24, 17, 14, ..., 15, 15,  2])"
      ]
     },
     "execution_count": 73,
     "metadata": {},
     "output_type": "execute_result"
    }
   ],
   "source": [
    "y_label_test"
   ]
  },
  {
   "cell_type": "code",
   "execution_count": 74,
   "metadata": {
    "colab": {},
    "colab_type": "code",
    "id": "YCA65U4DFu24"
   },
   "outputs": [],
   "source": [
    "dtest = xgb.DMatrix(data=feature_desc_test)"
   ]
  },
  {
   "cell_type": "code",
   "execution_count": 75,
   "metadata": {
    "colab": {},
    "colab_type": "code",
    "id": "MrHdYcvpF224"
   },
   "outputs": [],
   "source": [
    "pred = bst.predict(dtest)"
   ]
  },
  {
   "cell_type": "code",
   "execution_count": 76,
   "metadata": {
    "colab": {
     "base_uri": "https://localhost:8080/",
     "height": 34
    },
    "colab_type": "code",
    "id": "3Syk_hOdF5yQ",
    "outputId": "6c8f7b78-9b46-4052-9749-ef7f960b4a83"
   },
   "outputs": [
    {
     "data": {
      "text/plain": [
       "array([24.,  3., 14., ..., 15.,  0.,  2.], dtype=float32)"
      ]
     },
     "execution_count": 76,
     "metadata": {},
     "output_type": "execute_result"
    }
   ],
   "source": [
    "pred"
   ]
  },
  {
   "cell_type": "code",
   "execution_count": 77,
   "metadata": {
    "colab": {
     "base_uri": "https://localhost:8080/",
     "height": 605
    },
    "colab_type": "code",
    "id": "soTC6TIjOYkN",
    "outputId": "d86e7e34-26e6-48e4-c1d4-9ac399dd9a07"
   },
   "outputs": [
    {
     "name": "stdout",
     "output_type": "stream",
     "text": [
      "              precision    recall  f1-score   support\n",
      "\n",
      "           0       0.57      0.70      0.63      1294\n",
      "           1       0.58      0.31      0.41       199\n",
      "           2       0.67      0.28      0.40       248\n",
      "           3       0.57      0.67      0.61      1768\n",
      "           4       0.76      0.41      0.53       262\n",
      "           5       0.53      0.90      0.67      2173\n",
      "           6       0.62      0.42      0.50       185\n",
      "           7       0.73      0.45      0.55       188\n",
      "           8       0.71      0.56      0.62       240\n",
      "           9       0.59      0.42      0.49       489\n",
      "          10       0.74      0.35      0.47       579\n",
      "          11       0.69      0.70      0.70       522\n",
      "          12       0.81      0.41      0.55       196\n",
      "          13       0.73      0.42      0.54       264\n",
      "          14       0.59      0.77      0.67      2455\n",
      "          15       0.55      0.39      0.46       456\n",
      "          16       0.54      0.32      0.40       211\n",
      "          17       0.62      0.56      0.59      1647\n",
      "          18       0.68      0.55      0.61       268\n",
      "          19       0.81      0.68      0.74       955\n",
      "          20       0.67      0.62      0.64       644\n",
      "          21       0.61      0.43      0.51       492\n",
      "          22       0.68      0.58      0.62       914\n",
      "          23       0.73      0.57      0.64       394\n",
      "          24       0.71      0.46      0.56       766\n",
      "          25       0.50      0.40      0.44       334\n",
      "          26       0.74      0.49      0.59       435\n",
      "          27       0.83      0.49      0.62       506\n",
      "\n",
      "   micro avg       0.61      0.61      0.61     19084\n",
      "   macro avg       0.66      0.51      0.56     19084\n",
      "weighted avg       0.63      0.61      0.60     19084\n",
      "\n"
     ]
    }
   ],
   "source": [
    "from sklearn.metrics import classification_report\n",
    "\n",
    "print(classification_report(y_label_test, pred))"
   ]
  },
  {
   "cell_type": "markdown",
   "metadata": {},
   "source": [
    "Visualizing confusion matrix"
   ]
  },
  {
   "cell_type": "code",
   "execution_count": 78,
   "metadata": {},
   "outputs": [],
   "source": [
    "from sklearn.metrics import confusion_matrix\n",
    "\n",
    "cm = confusion_matrix(y_label_test, pred)"
   ]
  },
  {
   "cell_type": "code",
   "execution_count": 79,
   "metadata": {
    "colab": {},
    "colab_type": "code",
    "id": "ZmkauLH_Q-mp"
   },
   "outputs": [],
   "source": [
    "pred = [int(i) for i in pred.tolist()]"
   ]
  },
  {
   "cell_type": "code",
   "execution_count": 84,
   "metadata": {
    "colab": {
     "base_uri": "https://localhost:8080/",
     "height": 50
    },
    "colab_type": "code",
    "id": "dEU0WkBTQNv1",
    "outputId": "913bc907-0521-4625-bb18-fafbd2a90e0a"
   },
   "outputs": [
    {
     "data": {
      "text/plain": [
       "array(['Syrah', 'Cabernet Sauvignon', 'Pinot Noir', ..., 'Portuguese Red',\n",
       "       'Bordeaux-style Red Blend', 'Cabernet Franc'], dtype=object)"
      ]
     },
     "execution_count": 84,
     "metadata": {},
     "output_type": "execute_result"
    }
   ],
   "source": [
    "label_encoder.inverse_transform(pred)"
   ]
  },
  {
   "cell_type": "code",
   "execution_count": 81,
   "metadata": {
    "colab": {},
    "colab_type": "code",
    "id": "DUve2ZSWRlh9"
   },
   "outputs": [],
   "source": [
    "orig_labels=label_encoder.classes_.tolist()"
   ]
  },
  {
   "cell_type": "code",
   "execution_count": 82,
   "metadata": {},
   "outputs": [],
   "source": [
    "import seaborn as sns"
   ]
  },
  {
   "cell_type": "code",
   "execution_count": 83,
   "metadata": {
    "colab": {
     "base_uri": "https://localhost:8080/",
     "height": 993
    },
    "colab_type": "code",
    "id": "t2rRVDKPRqlG",
    "outputId": "ca0ab965-44c7-49d5-9e53-dbc08ce0de37"
   },
   "outputs": [
    {
     "data": {
      "image/png": "[encoded data removed]",
      "text/plain": [
       "<Figure size 1080x1080 with 2 Axes>"
      ]
     },
     "metadata": {
      "needs_background": "light"
     },
     "output_type": "display_data"
    }
   ],
   "source": [
    "def plot_confusion_matrix(cm, classes, normalized=True, cmap='bone'):\n",
    "    plt.figure(figsize=[15, 15])\n",
    "    norm_cm = cm\n",
    "    if normalized:\n",
    "        norm_cm = cm.astype('float') / cm.sum(axis=1)[:, np.newaxis]\n",
    "        sns.heatmap(norm_cm, annot=cm, fmt='g', xticklabels=classes, yticklabels=classes, cmap=cmap)\n",
    "        plt.savefig('confusion-matrix.png')\n",
    "\n",
    "plot_confusion_matrix(cm, orig_labels)"
   ]
  },
  {
   "cell_type": "code",
   "execution_count": 0,
   "metadata": {
    "colab": {},
    "colab_type": "code",
    "id": "r0zRY-9QO7Y8"
   },
   "outputs": [],
   "source": []
  }
 ],
 "metadata": {
  "accelerator": "TPU",
  "colab": {
   "collapsed_sections": [],
   "name": "Online_sales_AI_model.ipynb",
   "provenance": []
  },
  "kernelspec": {
   "display_name": "Python 3",
   "language": "python",
   "name": "python3"
  },
  "language_info": {
   "codemirror_mode": {
    "name": "ipython",
    "version": 3
   },
   "file_extension": ".py",
   "mimetype": "text/x-python",
   "name": "python",
   "nbconvert_exporter": "python",
   "pygments_lexer": "ipython3",
   "version": "3.7.1"
  }
 },
 "nbformat": 4,
 "nbformat_minor": 1
}
